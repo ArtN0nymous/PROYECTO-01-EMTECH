{
  "nbformat": 4,
  "nbformat_minor": 0,
  "metadata": {
    "colab": {
      "name": "Untitled2.ipynb",
      "provenance": []
    },
    "kernelspec": {
      "name": "python3",
      "display_name": "Python 3"
    },
    "language_info": {
      "name": "python"
    }
  },
  "cells": [
    {
      "cell_type": "markdown",
      "source": [
        "Tienda en línea ( Dataset country-income.csv)"
      ],
      "metadata": {
        "id": "4G5cJD9R9XJx"
      }
    },
    {
      "cell_type": "code",
      "execution_count": null,
      "metadata": {
        "id": "7N6oSe279Vh_"
      },
      "outputs": [],
      "source": [
        "#importar librerias\n",
        "import pandas as pd\n",
        "import numpy as np\n",
        "import matplotlib.pyplot as plt"
      ]
    },
    {
      "cell_type": "code",
      "source": [
        "data_frame = pd.read_csv('/content/country-income.csv') #Cargar el archivo CSV y guardarlo en una variable. \n",
        "data_frame.head(10)"
      ],
      "metadata": {
        "id": "0afWDpa89hCR"
      },
      "execution_count": null,
      "outputs": []
    },
    {
      "cell_type": "code",
      "source": [
        "#número de columnas y filas en las cuáles encuentras valores nulos o perdidos y cuántos\n",
        "columnas  = data_frame.columns.isna() #Obtenemos el estado de cada columna si hay nulo o no\n",
        "col_null = 0\n",
        "filas = data_frame.index.isna() #Obtenemos el estado de cada fila si hay nulo o no\n",
        "fil_null = 0\n",
        "data_frame.info() #Obtenemos una descripción del dataset\n",
        "val_null = 0\n",
        "#Recorremos los resultados de los estados nulos de cada columna y fila, en caso de que alguna sea nulo sumanos 1\n",
        "for i in columnas:\n",
        "  if i == 'TRUE':\n",
        "    col_null+=1\n",
        "for i in filas:\n",
        "  if i == 'TRUE':\n",
        "    fil_null += 1\n",
        "for i in data_frame.isnull():\n",
        "  if i == 'TRUE':\n",
        "    val_null +=1\n",
        "\n",
        "#mostramos los resultados \n",
        "print('Número de columnas con valores nulos: '+ str(col_null))\n",
        "print('Número de filas con valores nulos: '+str(fil_null))\n",
        "print('Numero total de valores nulos encontrados: '+str(val_null))\n",
        "print('Usando métodos: Columnas nulas '+ str(data_frame.columns.isnull().sum()))#Obtenemos las columnas nulas y sumamos \n",
        "print('Usando métodos: Filas nulas '+ str(data_frame.index.isnull().sum())) #Obtenemos las filas con valores nulos y sumamos \n",
        "print('Usando métodos: Total nulos ' + str(data_frame.isnull().sum().sum())) #Obtenemos una descripción de los valores nulos, los sumamos una vez y quedan por columna, luego sumamos nuevamente para obtener el total de nulos"
      ],
      "metadata": {
        "id": "tn0H9Exp9i-e"
      },
      "execution_count": null,
      "outputs": []
    },
    {
      "cell_type": "code",
      "source": [
        "#Sustituye esos valores perdidos por la media de la columna\n",
        "data_frame['Age'].fillna(data_frame['Age'].describe()['mean']) #Indicamos la columna sobre la que se va a trabajar, usamos el método llenar nulos y le pasamos como dato la media de dicha columna\n",
        "data_frame['Income'].fillna(data_frame['Income'].describe()['mean'])\n",
        "data_frame.head(10)"
      ],
      "metadata": {
        "id": "Gsre1-x59mdp"
      },
      "execution_count": null,
      "outputs": []
    },
    {
      "cell_type": "code",
      "source": [
        "#Calcula la media, máximo, mínimo y desviación estándar de las columnas con valores numéricos.\n",
        "data_frame.describe()"
      ],
      "metadata": {
        "id": "mrqU3b3K9o1A"
      },
      "execution_count": null,
      "outputs": []
    },
    {
      "cell_type": "code",
      "source": [
        "#Convierte todos los valores categóricos y binarios en numéricos sin alterar la estructura del dataset.\n",
        "data_frame = pd.get_dummies(data_frame, columns = [\"Region\"]) #Convertimos las columnas categoricas a numerícas con el método get_dummies, pasansole el dataframe y la columna a convertir.\n",
        "data_frame = pd.get_dummies(data_frame, columns = [\"Online_Shopper\"], drop_first = True) #Realizamos lo mismo que en el anterior pero eliminanos una de las nuevas columnas que se van a generar ya que al ser una columna binaria no necesita especificar lo mismo en la segunda (Si es está en Online_shopper_yes podemos ovbiar que no está en Online_shopper_No, por lo que es innecesario)\n",
        "data_frame.head()"
      ],
      "metadata": {
        "id": "twxqefVL9q8J"
      },
      "execution_count": null,
      "outputs": []
    }
  ]
}